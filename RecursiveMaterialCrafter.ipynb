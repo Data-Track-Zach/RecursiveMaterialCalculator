{
 "cells": [
  {
   "cell_type": "markdown",
   "metadata": {},
   "source": [
    "# Recursive Material Calculator"
   ]
  },
  {
   "cell_type": "markdown",
   "metadata": {},
   "source": [
    "## Goal:\n",
    "Provide the amount of raw materials to make Science Machine & Alchemy Engine\n",
    "\n",
    "\n",
    "## Class functions:\n",
    "* Add another recipe + Creation + Raw Ingredients\n",
    "* Identify Refinable Creations to convert to Raw Ingredients\n",
    "* Add 'Time' parameter to each Refinement ? Gathering?\n",
    "* Add some time calculation \n",
    "* Add some tool time calculation"
   ]
  },
  {
   "cell_type": "code",
   "execution_count": 2,
   "metadata": {},
   "outputs": [],
   "source": [
    "Creation ={\n",
    "        'ScienceMachine':0,\n",
    "        'AlchemyEngine':0\n",
    "    }\n",
    "\n",
    "RefinedIngredients = {\n",
    "        'Board':0,\n",
    "        'CutStone':0,\n",
    "        'ElectricalDoodad':0,\n",
    "    }\n",
    "RawIngredients = {\n",
    "        'Log':0,\n",
    "        'Rock':0,\n",
    "        'Twig':0,\n",
    "        'GoldNugget':0,\n",
    "}"
   ]
  },
  {
   "cell_type": "code",
   "execution_count": 3,
   "metadata": {},
   "outputs": [],
   "source": [
    "#Recipes\n",
    "RecipeDict= {\n",
    "        'ScienceMachine'   : {'Log' : 4, 'Rock' : 4, 'GoldNugget' : 1 },\n",
    "        'AlchemyEngine'    : {'Board' : 4, 'CutStone' : 2, 'ElectricalDoodad' : 2},\n",
    "        'Board'            : {'Log' : 4},\n",
    "        'CutStone'         : {'Rock': 3},\n",
    "        'ElectricalDoodad' : {'GoldNugget' : 2, 'CutStone' :1}\n",
    "}"
   ]
  },
  {
   "cell_type": "code",
   "execution_count": 4,
   "metadata": {},
   "outputs": [],
   "source": [
    "# Accessing Recipe in RecipeBook\n",
    "# print(RecipeDict['AlchemyEngine'])\n",
    "# Accessing Recipe Ingredient in RecipeBook\n",
    "# print(RecipeDict['AlchemyEngine']['CutStone'])\n",
    "\n",
    "def Inventory():\n",
    "    print('Raw Ingredients')\n",
    "    for item in RawIngredients:\n",
    "        print(item + \" : \" + str(RawIngredients[item]))\n",
    "    print('\\nRefined Ingredients')\n",
    "    for item in RefinedIngredients:\n",
    "        print(item + \" : \" + str(RefinedIngredients[item]))\n",
    "    print('\\nCreations')\n",
    "    for item in Creation:\n",
    "        print(item + \" : \" + str(Creation[item]))\n",
    "\n",
    "\n",
    "def Create(Recipe):     \n",
    "    if Recipe in Creation:\n",
    "        Creation[Recipe] += 1 \n",
    "        print(Recipe + \" added!\")\n",
    "    for ingredient in RecipeDict[Recipe]:                                           # Iterate Through Recipe dictionary at a certain key (i is the ingredient)\n",
    "        if ingredient in RawIngredients:\n",
    "            RawIngredients[ingredient] += RecipeDict[Recipe][ingredient]           # Add the number of ingredients of the specific recipe to the Item dictionary\n",
    "            print(ingredient + \" added!\")\n",
    "        if ingredient in RefinedIngredients:\n",
    "            for i in range(RecipeDict[Recipe][ingredient]):\n",
    "                Create(ingredient)\n",
    "\n",
    "    return"
   ]
  },
  {
   "cell_type": "code",
   "execution_count": 5,
   "metadata": {},
   "outputs": [
    {
     "name": "stdout",
     "output_type": "stream",
     "text": [
      "Raw Ingredients\n",
      "Log : 0\n",
      "Rock : 0\n",
      "Twig : 0\n",
      "GoldNugget : 0\n",
      "\n",
      "Refined Ingredients\n",
      "Board : 0\n",
      "CutStone : 0\n",
      "ElectricalDoodad : 0\n",
      "\n",
      "Creations\n",
      "ScienceMachine : 0\n",
      "AlchemyEngine : 0\n"
     ]
    }
   ],
   "source": [
    "Inventory()"
   ]
  },
  {
   "cell_type": "code",
   "execution_count": 6,
   "metadata": {},
   "outputs": [
    {
     "name": "stdout",
     "output_type": "stream",
     "text": [
      "AlchemyEngine added!\n",
      "Log added!\n",
      "Log added!\n",
      "Log added!\n",
      "Log added!\n",
      "Rock added!\n",
      "Rock added!\n",
      "GoldNugget added!\n",
      "Rock added!\n",
      "GoldNugget added!\n",
      "Rock added!\n"
     ]
    }
   ],
   "source": [
    "Create('AlchemyEngine')"
   ]
  },
  {
   "cell_type": "code",
   "execution_count": 7,
   "metadata": {},
   "outputs": [
    {
     "name": "stdout",
     "output_type": "stream",
     "text": [
      "Raw Ingredients\n",
      "Log : 16\n",
      "Rock : 12\n",
      "Twig : 0\n",
      "GoldNugget : 4\n",
      "\n",
      "Refined Ingredients\n",
      "Board : 0\n",
      "CutStone : 0\n",
      "ElectricalDoodad : 0\n",
      "\n",
      "Creations\n",
      "ScienceMachine : 0\n",
      "AlchemyEngine : 1\n"
     ]
    }
   ],
   "source": [
    "Inventory()"
   ]
  },
  {
   "cell_type": "code",
   "execution_count": 8,
   "metadata": {},
   "outputs": [
    {
     "name": "stdout",
     "output_type": "stream",
     "text": [
      "ScienceMachine added!\n",
      "Log added!\n",
      "Rock added!\n",
      "GoldNugget added!\n"
     ]
    }
   ],
   "source": [
    "Create('ScienceMachine')"
   ]
  },
  {
   "cell_type": "code",
   "execution_count": 9,
   "metadata": {},
   "outputs": [
    {
     "name": "stdout",
     "output_type": "stream",
     "text": [
      "Raw Ingredients\n",
      "Log : 20\n",
      "Rock : 16\n",
      "Twig : 0\n",
      "GoldNugget : 5\n",
      "\n",
      "Refined Ingredients\n",
      "Board : 0\n",
      "CutStone : 0\n",
      "ElectricalDoodad : 0\n",
      "\n",
      "Creations\n",
      "ScienceMachine : 1\n",
      "AlchemyEngine : 1\n"
     ]
    }
   ],
   "source": [
    "Inventory()"
   ]
  },
  {
   "cell_type": "code",
   "execution_count": null,
   "metadata": {},
   "outputs": [],
   "source": []
  },
  {
   "cell_type": "code",
   "execution_count": null,
   "metadata": {},
   "outputs": [],
   "source": []
  }
 ],
 "metadata": {
  "kernelspec": {
   "display_name": "Python 3",
   "language": "python",
   "name": "python3"
  },
  "language_info": {
   "codemirror_mode": {
    "name": "ipython",
    "version": 3
   },
   "file_extension": ".py",
   "mimetype": "text/x-python",
   "name": "python",
   "nbconvert_exporter": "python",
   "pygments_lexer": "ipython3",
   "version": "3.6.5"
  }
 },
 "nbformat": 4,
 "nbformat_minor": 2
}
